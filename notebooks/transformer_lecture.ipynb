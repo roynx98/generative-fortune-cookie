{
  "cells": [
    {
      "cell_type": "markdown",
      "metadata": {
        "id": "AMUKDJXULFBa"
      },
      "source": [
        "# Bigram LM as based for a Transformer LM"
      ]
    },
    {
      "cell_type": "code",
      "execution_count": 2,
      "metadata": {
        "id": "BVHLF48W-dl-"
      },
      "outputs": [],
      "source": [
        "with open(\"../input/fortune-messages.txt\") as f:\n",
        "  text = f.read()"
      ]
    },
    {
      "cell_type": "code",
      "execution_count": 3,
      "metadata": {
        "id": "dNkbuzZi5mJT"
      },
      "outputs": [],
      "source": [
        "chars = sorted(list(set(text)))\n",
        "vocab_size = len(chars)"
      ]
    },
    {
      "cell_type": "code",
      "execution_count": 4,
      "metadata": {
        "colab": {
          "base_uri": "https://localhost:8080/"
        },
        "id": "X5gyl6dw7cHq",
        "outputId": "1c6f2d92-4ffe-4521-9129-18bd63b86e23"
      },
      "outputs": [
        {
          "name": "stdout",
          "output_type": "stream",
          "text": [
            "[46, 43, 50, 50, 53]\n",
            "hello\n"
          ]
        }
      ],
      "source": [
        "char_to_token = { c:i for i, c in enumerate(chars) }\n",
        "token_to_char = { i:c for i, c in enumerate(chars) }\n",
        "encode = lambda s: [ char_to_token[c] for c in s ]\n",
        "decode = lambda l: \"\".join([ token_to_char[t] for t in l])\n",
        "\n",
        "print(encode(\"hello\"))\n",
        "print(decode(encode(\"hello\")))"
      ]
    },
    {
      "cell_type": "code",
      "execution_count": 5,
      "metadata": {
        "colab": {
          "base_uri": "https://localhost:8080/"
        },
        "id": "0bdZ9FniUB4G",
        "outputId": "66e57d0a-fd65-4e9f-9748-ba40f7e59261"
      },
      "outputs": [
        {
          "name": "stdout",
          "output_type": "stream",
          "text": [
            "torch.Size([13083])\n"
          ]
        }
      ],
      "source": [
        "import torch\n",
        "data = torch.tensor(encode(text), dtype=torch.long)\n",
        "n = int(0.9 * len(data))\n",
        "train_data = data[:n]\n",
        "val_data = data[n:]\n",
        "print(data.shape)"
      ]
    },
    {
      "cell_type": "code",
      "execution_count": 6,
      "metadata": {
        "colab": {
          "base_uri": "https://localhost:8080/"
        },
        "id": "ijWMS5dNZdNF",
        "outputId": "771ba116-b85c-40e7-b7fc-3653aa070543"
      },
      "outputs": [
        {
          "name": "stdout",
          "output_type": "stream",
          "text": [
            "For this chunk (x) tensor([37, 47, 58, 46,  1, 47, 52, 58])\n",
            "When the input is tensor([37]), we expect 47\n",
            "When the input is tensor([37, 47]), we expect 58\n",
            "When the input is tensor([37, 47, 58]), we expect 46\n",
            "When the input is tensor([37, 47, 58, 46]), we expect 1\n",
            "When the input is tensor([37, 47, 58, 46,  1]), we expect 47\n",
            "When the input is tensor([37, 47, 58, 46,  1, 47]), we expect 52\n",
            "When the input is tensor([37, 47, 58, 46,  1, 47, 52]), we expect 58\n",
            "When the input is tensor([37, 47, 58, 46,  1, 47, 52, 58]), we expect 43\n"
          ]
        }
      ],
      "source": [
        "# For each x and y, we get block_size training samples\n",
        "block_size = 8\n",
        "x = train_data[:block_size]\n",
        "y = train_data[1:block_size+1]\n",
        "print(\"For this chunk (x)\", train_data[:block_size])\n",
        "for i in range(block_size):\n",
        "  context = x[:i+1]\n",
        "  target = y[i]\n",
        "  print(f\"When the input is {context}, we expect {target}\")"
      ]
    },
    {
      "cell_type": "code",
      "execution_count": 7,
      "metadata": {
        "colab": {
          "base_uri": "https://localhost:8080/"
        },
        "id": "mifGycUzeepe",
        "outputId": "141bab3e-3141-4c72-84a2-fc67732d9d18"
      },
      "outputs": [
        {
          "data": {
            "text/plain": [
              "[tensor([[43,  1, 58, 46, 43,  1, 51, 53],\n",
              "         [41, 53, 51, 54, 50, 47, 57, 46],\n",
              "         [58,  1, 42, 53,  1, 63, 53, 59],\n",
              "         [39, 52, 42,  1, 58, 46, 43,  1]]),\n",
              " tensor([[ 1, 58, 46, 43,  1, 51, 53, 57],\n",
              "         [53, 51, 54, 50, 47, 57, 46, 51],\n",
              "         [ 1, 42, 53,  1, 63, 53, 59, 56],\n",
              "         [52, 42,  1, 58, 46, 43,  1, 39]])]"
            ]
          },
          "execution_count": 7,
          "metadata": {},
          "output_type": "execute_result"
        }
      ],
      "source": [
        "batch_size = 4\n",
        "device = torch.device(\"cuda\" if torch.cuda.is_available() else \"cpu\")\n",
        "\n",
        "def get_batch(source):\n",
        "  data = train_data if source == \"train\" else val_data\n",
        "  rv = torch.randint(len(data) - block_size, (batch_size,))\n",
        "  inputs = torch.stack([data[r:r+block_size] for r in rv])\n",
        "  outputs = torch.stack([data[r+1:r+block_size+1] for r in rv])\n",
        "  inputs, outputs = inputs.to(device), outputs.to(device)\n",
        "\n",
        "  return [inputs, outputs]\n",
        "\n",
        "xb, yb = get_batch(\"train\")\n",
        "get_batch(\"train\")"
      ]
    },
    {
      "cell_type": "code",
      "execution_count": null,
      "metadata": {
        "id": "9KC3TkXcyWdX"
      },
      "outputs": [],
      "source": [
        "import torch\n",
        "import torch.nn as nn\n",
        "from torch.nn import functional as f\n",
        "\n",
        "class BigramLM(nn.Module):\n",
        "  def __init__(self, vocab_size):\n",
        "    super().__init__()\n",
        "    self.token_embedding_table = nn.Embedding(vocab_size, vocab_size)\n",
        "\n",
        "  # idx is a tensor of shape (B, T): batch size B, sequence length T\n",
        "  def forward(self, idx, targets=None):\n",
        "    # For each token in the input, retrieve its embedding\n",
        "    # Result is shape (B, T, C), where C = vocab_size\n",
        "    # Since this is a Bigram model, the embedding gives the posiblidates of the followin token\n",
        "    logits = self.token_embedding_table(idx)\n",
        "\n",
        "    if targets == None:\n",
        "      return logits, None\n",
        "\n",
        "    B, T, C = logits.shape\n",
        "\n",
        "    # The cross entropy function expects logits and targets\n",
        "    # The logits tensor should have shape (B, C), where B is the total number of samples (e.g., batch size),\n",
        "    # and C is the number of classes (for example, 10 if you're classifying digits 0–9)\n",
        "    # The target should be a tensor of shape (B,), where each element is the class index\n",
        "    # for each corresponding sample in the batch (e.g., a number from 0 to 9 in digit classification)\n",
        "    logits = logits.view(B * T, C)\n",
        "    target = targets.view(B * T)\n",
        "    cost = f.cross_entropy(logits, target)\n",
        "\n",
        "    return logits, cost\n",
        "\n",
        "  def generate(self, idx, new_tokens):\n",
        "    for _ in range(new_tokens):\n",
        "      logits, _ = self(idx)\n",
        "\n",
        "      # We take only the logits from the last time step (T),\n",
        "      # which gives us the predicted probabilities for the next token.\n",
        "      # Selecting the last index from the second dimension gives a tensor of shape (B, C),\n",
        "      # where B is the batch size and C is the vocabulary size.\n",
        "      logits = logits[:, -1, :]\n",
        "\n",
        "      # Apply softmax across the last dimension (C) to convert logits to probabilities\n",
        "      probs = f.softmax(logits, dim=-1)\n",
        "\n",
        "      # Sample the next token from the probability distribution\n",
        "      # The result has shape (B, 1), where each element is the sampled token index\n",
        "      idx_next = torch.multinomial(probs, num_samples=1)\n",
        "\n",
        "      # Append the sampled token to the existing sequence\n",
        "      # The new idx has shape (B, T+1)\n",
        "      idx = torch.cat((idx, idx_next), dim=-1)\n",
        "    return idx\n",
        "\n",
        "model = BigramLM(vocab_size)"
      ]
    },
    {
      "cell_type": "code",
      "execution_count": 9,
      "metadata": {
        "id": "iu2rLjFzE4Gf"
      },
      "outputs": [
        {
          "name": "stdout",
          "output_type": "stream",
          "text": [
            "-- Text generation before training a Bigram model:  \n",
            "z:yqRIEkp'D1qv3dWjsFBu (ayBrjstp,rzWYkp??A.AnyUG))NMpnCDAl wLxHKx?1HnRrYhG!!nR)C\"SnhTP\n",
            "PYH)\"Vcu'qvCGNp'etT\n",
            "?'LvvGH'2CII?CDyjtrKE.Njvt\")dUDeTxUgdlErKq\n",
            "\"gWki(DECbqvDsVDss;ollednJMCzHJyi-(GdjhrzWYhpVEzL3\n",
            "-- Text generation before training a Bigram model:  \n",
            "Man t.\n",
            "Dou ned is ondve gisely ferityon derssstu yoou thespou tisithoveniorin ibilo ubofingonecer tuesthawimiour's.\n",
            "Be t ing taveilly.\n",
            "M'st u\"Sal y.\n",
            "Thmilfe tis o es tthan s s a es.\n",
            "Yotearunge plece o\n",
            "Cost: 2.2598772048950195\n"
          ]
        }
      ],
      "source": [
        "batch_size = 30\n",
        "optimizer = torch.optim.AdamW(model.parameters(), lr=1e-3)\n",
        "\n",
        "print(f\"-- Text generation before training a Bigram model: \",\n",
        "  decode(model.generate(torch.zeros(1, 1, dtype=torch.long), 200)[0].tolist()))\n",
        "\n",
        "for steps in range(10000):\n",
        "  xb, yb = get_batch(\"train\")\n",
        "\n",
        "  logits, cost = model(xb, yb)\n",
        "\n",
        "  optimizer.zero_grad(set_to_none=True)\n",
        "  cost.backward()\n",
        "  optimizer.step()\n",
        "\n",
        "print(f\"-- Text generation before training a Bigram model: \",\n",
        "  decode(model.generate(torch.zeros(1, 1, dtype=torch.long), 200)[0].tolist()))\n",
        "print(f\"Cost: {cost.item()}\")\n"
      ]
    },
    {
      "cell_type": "markdown",
      "metadata": {
        "id": "7zDN83XjKwu5"
      },
      "source": [
        "# Matematical trick in seft-attention"
      ]
    },
    {
      "cell_type": "code",
      "execution_count": 10,
      "metadata": {
        "colab": {
          "base_uri": "https://localhost:8080/"
        },
        "id": "Kj2cJYrHK8XQ",
        "outputId": "c3176eea-e9c2-4316-8498-d4ca0fb16c12"
      },
      "outputs": [
        {
          "name": "stdout",
          "output_type": "stream",
          "text": [
            "tensor([[ 0.2185,  0.6711],\n",
            "        [ 0.5332, -1.0323],\n",
            "        [ 0.2328,  0.2747],\n",
            "        [-1.2962,  1.7230],\n",
            "        [ 0.0458,  0.6589],\n",
            "        [-1.3700,  1.9989],\n",
            "        [ 0.6677,  0.6635],\n",
            "        [-1.2354,  0.0185]]) tensor([[ 0.2185,  0.6711],\n",
            "        [ 0.3758, -0.1806],\n",
            "        [ 0.3282, -0.0289],\n",
            "        [-0.0779,  0.4091],\n",
            "        [-0.0532,  0.4591],\n",
            "        [-0.2726,  0.7157],\n",
            "        [-0.1383,  0.7082],\n",
            "        [-0.2754,  0.6220]])\n"
          ]
        }
      ],
      "source": [
        "B,T,C = 4,8,2\n",
        "x = torch.randn(B,T,C)\n",
        "\n",
        "# bow stands for bag of words, is the tensor where we are going to store the avg\n",
        "xbow = torch.zeros((B,T,C))\n",
        "\n",
        "for b in range(B):\n",
        "  for t in range(T):\n",
        "    xprev = x[b,:t+1] #(t + 1, C)\n",
        "\n",
        "    # We generate a new embedding that is the average of all previous ones (including the current one)\n",
        "    # The average is taken along dimension 0 — that is, across rows\n",
        "    xbow[b,t] = torch.mean(xprev, 0)\n",
        "\n",
        "print(x[0], xbow[0])"
      ]
    },
    {
      "cell_type": "code",
      "execution_count": 11,
      "metadata": {
        "colab": {
          "base_uri": "https://localhost:8080/"
        },
        "id": "kANEryAjZaKz",
        "outputId": "b1c8e34e-9633-4eed-a63e-7cfef35203c4"
      },
      "outputs": [
        {
          "name": "stdout",
          "output_type": "stream",
          "text": [
            "tensor([[1., 0., 0.],\n",
            "        [1., 1., 0.],\n",
            "        [1., 1., 1.]])\n",
            "tensor([[1.0000, 0.0000, 0.0000],\n",
            "        [0.5000, 0.5000, 0.0000],\n",
            "        [0.3333, 0.3333, 0.3333]])\n",
            "tensor([[3., 2.],\n",
            "        [6., 5.],\n",
            "        [6., 4.]])\n",
            "tensor([[3.0000, 2.0000],\n",
            "        [4.5000, 3.5000],\n",
            "        [5.0000, 3.6667]])\n"
          ]
        }
      ],
      "source": [
        "# Because we're using for loops, we're not being efficient.\n",
        "# But we can achieve the same result using matrix multiplication.\n",
        "\n",
        "# Let's use a new matrix wei to compute the average of the previous embeddings\n",
        "wei = torch.tril(torch.ones(3, 3))\n",
        "print(wei)\n",
        "\n",
        "# Configure the wei matrix to compute the average of the previous embeddings across dimension 0\n",
        "# Each row is normalized by the number of ones (i.e., number of elements being averaged)\n",
        "wei = wei / torch.sum(wei, 1, keepdim=True)\n",
        "\n",
        "# Create an example matrix x, where each row is a \"time step\" with an embedding of size 2\n",
        "x = torch.randint(0, 10, (3, 2)).float()\n",
        "\n",
        "print(wei)\n",
        "print(x)\n",
        "print(wei @ x)"
      ]
    },
    {
      "cell_type": "code",
      "execution_count": 12,
      "metadata": {
        "id": "BWgQAjt-3aEB"
      },
      "outputs": [],
      "source": [
        "# Example of a single head of self attention as a decoder\n",
        "\n",
        "B,T,C = 4,8,2\n",
        "head_size = 16\n",
        "\n",
        "x = torch.randn(B,T,C)\n",
        "key = nn.Linear(C, head_size, bias=False)\n",
        "query = nn.Linear(C, head_size, bias=False)\n",
        "value = nn.Linear(C, head_size, bias=False)\n",
        "\n",
        "# This is self-attention because keys, queries, and values all come from the same input x\n",
        "\n",
        "# Queries: \"What should I pay attention to?\"\n",
        "q = query(x)  # Shape: (B, T, head_size)\n",
        "\n",
        "# Keys: \"What information do I contain?\"\n",
        "k = key(x)    # Shape: (B, T, head_size)\n",
        "\n",
        "# Values: \"What information should actually be passed on?\"\n",
        "# The model needs more flexibility and capacity to learn rich patterns than what raw embeddings provide.\n",
        "v = value(x)  # Shape: (B, T, head_size)\n",
        "\n",
        "# Compute attention scores: dot product between queries and keys\n",
        "# Shape: (B, T, T) — how much each token should attend to every other token\n",
        "wei = q @ k.transpose(-2, -1)  # Transpose swaps last two dims of k to match q\n",
        "\n",
        "# If the values in wei are too large, the softmax becomes very peaky\n",
        "# meaning it assigns almost all the attention to a single token and ignores the rest.\n",
        "# This can hurt learning and make training slower or unstable.\n",
        "# So we scale the scores to normalize them before applying softmax.\n",
        "wei = wei / (head_size ** 0.5) # Scale the scores by sqrt(head_size)\n",
        "\n",
        "# Mask upper triangle (future tokens), to make a decoder\n",
        "# We’re tryyin to decode the sequence so far into the next token,\n",
        "# So we want to prevent the model from looking at future tokens.\n",
        "tri = torch.tril(torch.ones(T, T))\n",
        "wei = wei.masked_fill(tri == 0, float('-inf'))  \n",
        "\n",
        "wei = f.softmax(wei, dim=-1)\n",
        "\n",
        "# Get updated values based on attention scores\n",
        "out = wei @ v  # Shape: (B, T, head_size)"
      ]
    },
    {
      "cell_type": "markdown",
      "metadata": {
        "id": "Y7ESZ53abwae"
      },
      "source": [
        "# Transformer Language Model"
      ]
    },
    {
      "cell_type": "code",
      "execution_count": null,
      "metadata": {
        "id": "PB-HIhufaLi4"
      },
      "outputs": [],
      "source": [
        "batch_size = 120\n",
        "block_size = 16\n",
        "max_steps = 5000\n",
        "eval_iters = 500\n",
        "learning_rate = 1e-3\n",
        "n_embeddings = 32\n",
        "\n",
        "class Transformer(nn.Module):\n",
        "  def __init__(self):\n",
        "    super().__init__()\n",
        "\n",
        "    self.token_embedding_table = nn.Embedding(vocab_size, n_embeddings)\n",
        "    self.position_embedding_table = nn.Embedding(block_size, n_embeddings)\n",
        "    self.blocks = nn.Sequential(\n",
        "      TransformerBlock(n_embeddings, n_embeddings // 4),\n",
        "      TransformerBlock(n_embeddings, n_embeddings // 4),\n",
        "      TransformerBlock(n_embeddings, n_embeddings // 4),\n",
        "      TransformerBlock(n_embeddings, n_embeddings // 4),\n",
        "    )\n",
        "\n",
        "    # It maps the output embeddings back to a distribution over the vocabulary\n",
        "    # the term \"head\" refers to the final part of a model that produces the actual output (logits)\n",
        "    self.lm_head = nn.Linear(n_embeddings, vocab_size)\n",
        "\n",
        "  def forward(self, idx, targets=None):\n",
        "    B, T = idx.shape\n",
        "\n",
        "    tokens_embeddings = self.token_embedding_table(idx) # B, T, n_embeddings\n",
        "    pos_embeddings = self.position_embedding_table(torch.arange(T, device=idx.device)) # T, n_embeddings\n",
        "\n",
        "    #This way, the model understands not just what each word is, but also where it is in the sentence.\n",
        "    x = tokens_embeddings + pos_embeddings # B, T, n_embeddings\n",
        "    x = self.blocks(x)\n",
        "\n",
        "    logits = self.lm_head(x) # B, T, vocab_size\n",
        "\n",
        "    if targets == None:\n",
        "      return logits, None\n",
        "\n",
        "    B, T, C = logits.shape\n",
        "\n",
        "    logits = logits.view(B*T, C)\n",
        "    target = targets.view(B*T)\n",
        "    cost = f.cross_entropy(logits, target)\n",
        "\n",
        "    return logits, cost\n",
        "\n",
        "  ## Idx is B, T\n",
        "  def generate(self, idx, new_tokens):\n",
        "    for _ in range(new_tokens):\n",
        "      logits, _ = self(idx[:, -block_size:])\n",
        "      logits = logits[:, -1, :]\n",
        "\n",
        "      probs = f.softmax(logits, dim=-1)\n",
        "      idx_next = torch.multinomial(probs, num_samples=1)\n",
        "\n",
        "      idx = torch.cat((idx, idx_next), dim=1)\n",
        "    return idx\n",
        "\n",
        "# Attention: “What should I know from others?”\n",
        "class SingleHeadOfAttention(nn.Module):\n",
        "  def __init__(self, head_size):\n",
        "    super().__init__()\n",
        "    self.key = nn.Linear(n_embeddings, head_size, bias=False)\n",
        "    self.query = nn.Linear(n_embeddings, head_size, bias=False)\n",
        "    self.value = nn.Linear(n_embeddings, head_size, bias=False)\n",
        "    # Registers this matrix as a buffer in the model:\n",
        "    # Include this tensor when saving the model's state with model.state_dict().\n",
        "    # Automatically move it to GPU/CPU along with the model.\n",
        "    self.register_buffer(\"tril\", torch.tril(torch.ones(block_size, block_size)))\n",
        "\n",
        "  # We recevive the embeddings for each c in t\n",
        "  def forward(self, x):\n",
        "    B, T, C = x.shape\n",
        "\n",
        "    k = self.key(x) # B, T, head_size\n",
        "    q = self.query(x) # B, T, head_size\n",
        "    v = self.value(x)\n",
        "\n",
        "    wei = q @ k.transpose(-2, -1) * (head_size ** -0.5) # B, T, T\n",
        "    wei = wei.masked_fill(self.tril[:T, :T] == 0, float(\"-inf\"))\n",
        "    wei = f.softmax(wei, dim=-1)\n",
        "\n",
        "    return wei @ v # B, T, head_size\n",
        "\n",
        "# A single attention head can only focus on one type of relationship between tokens at a time.\n",
        "# Multiple heads allow the model to learn multiple perspectives, Syntactic structure, Semantic meaning, Local vs global dependencies\n",
        "class MultiHeadOfAttention(nn.Module):\n",
        "  def __init__(self, num_heads, head_size):\n",
        "    super().__init__()\n",
        "    self.heads = nn.ModuleList([SingleHeadOfAttention(head_size) for _ in range(num_heads)])\n",
        "    # Learns how to combine the outputs of the individual heads in a meaningful wa\n",
        "    self.proj = nn.Linear(n_embeddings, n_embeddings)\n",
        "\n",
        "  def forward(self, x):\n",
        "    res = torch.cat([h(x) for h in self.heads], dim=-1)\n",
        "    return self.proj(res)\n",
        "\n",
        "# What should I do with that knowledge that I gained from the self attention.\n",
        "# Attention doesn't actually transform the token’s representation in a deep, nonlinear way.\n",
        "# That's the job of the feedforward layer.\n",
        "class FeedForward(nn.Module):\n",
        "  def __init__(self, n_embeddings):\n",
        "    super().__init__()\n",
        "    self.n_embeddings = n_embeddings\n",
        "    self.net = nn.Sequential(\n",
        "      nn.Linear(n_embeddings, n_embeddings * 4), # *4 # Expand (richer representation)\n",
        "      nn.ReLU(),\n",
        "      nn.Linear(n_embeddings * 4, n_embeddings)\n",
        "    )\n",
        "\n",
        "  def forward(self, x):\n",
        "    return self.net(x)\n",
        "\n",
        "# Allow the model to learn increasingly abstract and complex representations of the input.\n",
        "# First block: each token gathers some context.\n",
        "# Second block: tokens now gather context from already context-aware representations.\n",
        "# Third block: further refined interactions, more abstract patterns.\n",
        "class TransformerBlock(nn.Module):\n",
        "  def __init__(self, n_embeddings, n_head):\n",
        "    super().__init__()\n",
        "    head_size = n_embeddings // n_head\n",
        "    self.sa = MultiHeadOfAttention(n_head, head_size)\n",
        "    self.ffwd = FeedForward(n_embeddings)\n",
        "    self.n1 = nn.LayerNorm(n_embeddings)\n",
        "    self.n2 = nn.LayerNorm(n_embeddings)\n",
        "\n",
        "  #Using residual connection to improve vanishing gradient\n",
        "  def forward(self, x):\n",
        "    # Communication\n",
        "    x = x + self.sa(self.n1(x))\n",
        "\n",
        "    # Computation\n",
        "    x = x + self.ffwd(self.n2(x))\n",
        "    return x\n",
        "\n",
        "@torch.no_grad()\n",
        "def estimate_loss():\n",
        "  out = {}\n",
        "  model.eval()\n",
        "  for split in [\"train\", \"val\"]:\n",
        "    losses = torch.zeros(eval_iters)\n",
        "    for i in range(eval_iters):\n",
        "      xb, yb = get_batch(split)\n",
        "      logits, cost = model(xb, yb)\n",
        "      losses[i] = cost.item()\n",
        "    out[split] = losses.mean()\n",
        "  model.train()\n",
        "  return out\n",
        "\n",
        "model = Transformer()\n",
        "model = model.to(device)"
      ]
    },
    {
      "cell_type": "code",
      "execution_count": 16,
      "metadata": {
        "colab": {
          "base_uri": "https://localhost:8080/"
        },
        "id": "sOSAqk7ZNWuE",
        "outputId": "18de6502-e9ef-4d73-c4e2-ad850214a2dc"
      },
      "outputs": [
        {
          "name": "stdout",
          "output_type": "stream",
          "text": [
            "device cpu\n",
            "batch_size 120\n",
            "step 0: train loss 4.6570, val loss 4.6366\n",
            "step 500: train loss 2.1040, val loss 2.2226\n",
            "step 1000: train loss 1.8534, val loss 2.0706\n",
            "step 1500: train loss 1.6827, val loss 2.0235\n",
            "step 2000: train loss 1.5512, val loss 2.0072\n",
            "step 2500: train loss 1.4477, val loss 2.0370\n"
          ]
        },
        {
          "ename": "KeyboardInterrupt",
          "evalue": "",
          "output_type": "error",
          "traceback": [
            "\u001b[31m---------------------------------------------------------------------------\u001b[39m",
            "\u001b[31mKeyboardInterrupt\u001b[39m                         Traceback (most recent call last)",
            "\u001b[36mCell\u001b[39m\u001b[36m \u001b[39m\u001b[32mIn[16]\u001b[39m\u001b[32m, line 15\u001b[39m\n\u001b[32m     12\u001b[39m   losses = estimate_loss()\n\u001b[32m     13\u001b[39m   \u001b[38;5;28mprint\u001b[39m(\u001b[33mf\u001b[39m\u001b[33m\"\u001b[39m\u001b[33mstep \u001b[39m\u001b[38;5;132;01m{\u001b[39;00msteps\u001b[38;5;132;01m}\u001b[39;00m\u001b[33m: train loss \u001b[39m\u001b[38;5;132;01m{\u001b[39;00mlosses[\u001b[33m'\u001b[39m\u001b[33mtrain\u001b[39m\u001b[33m'\u001b[39m]\u001b[38;5;132;01m:\u001b[39;00m\u001b[33m.4f\u001b[39m\u001b[38;5;132;01m}\u001b[39;00m\u001b[33m, val loss \u001b[39m\u001b[38;5;132;01m{\u001b[39;00mlosses[\u001b[33m'\u001b[39m\u001b[33mval\u001b[39m\u001b[33m'\u001b[39m]\u001b[38;5;132;01m:\u001b[39;00m\u001b[33m.4f\u001b[39m\u001b[38;5;132;01m}\u001b[39;00m\u001b[33m\"\u001b[39m)\n\u001b[32m---> \u001b[39m\u001b[32m15\u001b[39m logits, cost = \u001b[43mmodel\u001b[49m\u001b[43m(\u001b[49m\u001b[43mxb\u001b[49m\u001b[43m,\u001b[49m\u001b[43m \u001b[49m\u001b[43myb\u001b[49m\u001b[43m)\u001b[49m\n\u001b[32m     17\u001b[39m optimizer.zero_grad(set_to_none=\u001b[38;5;28;01mTrue\u001b[39;00m)\n\u001b[32m     18\u001b[39m cost.backward()\n",
            "\u001b[36mFile \u001b[39m\u001b[32m~/Developer/generative-fortune-cookie/venv/lib/python3.12/site-packages/torch/nn/modules/module.py:1751\u001b[39m, in \u001b[36mModule._wrapped_call_impl\u001b[39m\u001b[34m(self, *args, **kwargs)\u001b[39m\n\u001b[32m   1749\u001b[39m     \u001b[38;5;28;01mreturn\u001b[39;00m \u001b[38;5;28mself\u001b[39m._compiled_call_impl(*args, **kwargs)  \u001b[38;5;66;03m# type: ignore[misc]\u001b[39;00m\n\u001b[32m   1750\u001b[39m \u001b[38;5;28;01melse\u001b[39;00m:\n\u001b[32m-> \u001b[39m\u001b[32m1751\u001b[39m     \u001b[38;5;28;01mreturn\u001b[39;00m \u001b[38;5;28;43mself\u001b[39;49m\u001b[43m.\u001b[49m\u001b[43m_call_impl\u001b[49m\u001b[43m(\u001b[49m\u001b[43m*\u001b[49m\u001b[43margs\u001b[49m\u001b[43m,\u001b[49m\u001b[43m \u001b[49m\u001b[43m*\u001b[49m\u001b[43m*\u001b[49m\u001b[43mkwargs\u001b[49m\u001b[43m)\u001b[49m\n",
            "\u001b[36mFile \u001b[39m\u001b[32m~/Developer/generative-fortune-cookie/venv/lib/python3.12/site-packages/torch/nn/modules/module.py:1762\u001b[39m, in \u001b[36mModule._call_impl\u001b[39m\u001b[34m(self, *args, **kwargs)\u001b[39m\n\u001b[32m   1757\u001b[39m \u001b[38;5;66;03m# If we don't have any hooks, we want to skip the rest of the logic in\u001b[39;00m\n\u001b[32m   1758\u001b[39m \u001b[38;5;66;03m# this function, and just call forward.\u001b[39;00m\n\u001b[32m   1759\u001b[39m \u001b[38;5;28;01mif\u001b[39;00m \u001b[38;5;129;01mnot\u001b[39;00m (\u001b[38;5;28mself\u001b[39m._backward_hooks \u001b[38;5;129;01mor\u001b[39;00m \u001b[38;5;28mself\u001b[39m._backward_pre_hooks \u001b[38;5;129;01mor\u001b[39;00m \u001b[38;5;28mself\u001b[39m._forward_hooks \u001b[38;5;129;01mor\u001b[39;00m \u001b[38;5;28mself\u001b[39m._forward_pre_hooks\n\u001b[32m   1760\u001b[39m         \u001b[38;5;129;01mor\u001b[39;00m _global_backward_pre_hooks \u001b[38;5;129;01mor\u001b[39;00m _global_backward_hooks\n\u001b[32m   1761\u001b[39m         \u001b[38;5;129;01mor\u001b[39;00m _global_forward_hooks \u001b[38;5;129;01mor\u001b[39;00m _global_forward_pre_hooks):\n\u001b[32m-> \u001b[39m\u001b[32m1762\u001b[39m     \u001b[38;5;28;01mreturn\u001b[39;00m \u001b[43mforward_call\u001b[49m\u001b[43m(\u001b[49m\u001b[43m*\u001b[49m\u001b[43margs\u001b[49m\u001b[43m,\u001b[49m\u001b[43m \u001b[49m\u001b[43m*\u001b[49m\u001b[43m*\u001b[49m\u001b[43mkwargs\u001b[49m\u001b[43m)\u001b[49m\n\u001b[32m   1764\u001b[39m result = \u001b[38;5;28;01mNone\u001b[39;00m\n\u001b[32m   1765\u001b[39m called_always_called_hooks = \u001b[38;5;28mset\u001b[39m()\n",
            "\u001b[36mCell\u001b[39m\u001b[36m \u001b[39m\u001b[32mIn[15]\u001b[39m\u001b[32m, line 31\u001b[39m, in \u001b[36mTransformer.forward\u001b[39m\u001b[34m(self, idx, targets)\u001b[39m\n\u001b[32m     29\u001b[39m \u001b[38;5;66;03m#This way, the model understands not just what each word is, but also where it is in the sentence.\u001b[39;00m\n\u001b[32m     30\u001b[39m x = tokens_embeddings + pos_embeddings \u001b[38;5;66;03m# B, T, n_embeddings\u001b[39;00m\n\u001b[32m---> \u001b[39m\u001b[32m31\u001b[39m x = \u001b[38;5;28;43mself\u001b[39;49m\u001b[43m.\u001b[49m\u001b[43mblocks\u001b[49m\u001b[43m(\u001b[49m\u001b[43mx\u001b[49m\u001b[43m)\u001b[49m\n\u001b[32m     33\u001b[39m logits = \u001b[38;5;28mself\u001b[39m.lm_head(x) \u001b[38;5;66;03m# B, T, vocab_size\u001b[39;00m\n\u001b[32m     35\u001b[39m \u001b[38;5;28;01mif\u001b[39;00m targets == \u001b[38;5;28;01mNone\u001b[39;00m:\n",
            "\u001b[36mFile \u001b[39m\u001b[32m~/Developer/generative-fortune-cookie/venv/lib/python3.12/site-packages/torch/nn/modules/module.py:1751\u001b[39m, in \u001b[36mModule._wrapped_call_impl\u001b[39m\u001b[34m(self, *args, **kwargs)\u001b[39m\n\u001b[32m   1749\u001b[39m     \u001b[38;5;28;01mreturn\u001b[39;00m \u001b[38;5;28mself\u001b[39m._compiled_call_impl(*args, **kwargs)  \u001b[38;5;66;03m# type: ignore[misc]\u001b[39;00m\n\u001b[32m   1750\u001b[39m \u001b[38;5;28;01melse\u001b[39;00m:\n\u001b[32m-> \u001b[39m\u001b[32m1751\u001b[39m     \u001b[38;5;28;01mreturn\u001b[39;00m \u001b[38;5;28;43mself\u001b[39;49m\u001b[43m.\u001b[49m\u001b[43m_call_impl\u001b[49m\u001b[43m(\u001b[49m\u001b[43m*\u001b[49m\u001b[43margs\u001b[49m\u001b[43m,\u001b[49m\u001b[43m \u001b[49m\u001b[43m*\u001b[49m\u001b[43m*\u001b[49m\u001b[43mkwargs\u001b[49m\u001b[43m)\u001b[49m\n",
            "\u001b[36mFile \u001b[39m\u001b[32m~/Developer/generative-fortune-cookie/venv/lib/python3.12/site-packages/torch/nn/modules/module.py:1762\u001b[39m, in \u001b[36mModule._call_impl\u001b[39m\u001b[34m(self, *args, **kwargs)\u001b[39m\n\u001b[32m   1757\u001b[39m \u001b[38;5;66;03m# If we don't have any hooks, we want to skip the rest of the logic in\u001b[39;00m\n\u001b[32m   1758\u001b[39m \u001b[38;5;66;03m# this function, and just call forward.\u001b[39;00m\n\u001b[32m   1759\u001b[39m \u001b[38;5;28;01mif\u001b[39;00m \u001b[38;5;129;01mnot\u001b[39;00m (\u001b[38;5;28mself\u001b[39m._backward_hooks \u001b[38;5;129;01mor\u001b[39;00m \u001b[38;5;28mself\u001b[39m._backward_pre_hooks \u001b[38;5;129;01mor\u001b[39;00m \u001b[38;5;28mself\u001b[39m._forward_hooks \u001b[38;5;129;01mor\u001b[39;00m \u001b[38;5;28mself\u001b[39m._forward_pre_hooks\n\u001b[32m   1760\u001b[39m         \u001b[38;5;129;01mor\u001b[39;00m _global_backward_pre_hooks \u001b[38;5;129;01mor\u001b[39;00m _global_backward_hooks\n\u001b[32m   1761\u001b[39m         \u001b[38;5;129;01mor\u001b[39;00m _global_forward_hooks \u001b[38;5;129;01mor\u001b[39;00m _global_forward_pre_hooks):\n\u001b[32m-> \u001b[39m\u001b[32m1762\u001b[39m     \u001b[38;5;28;01mreturn\u001b[39;00m \u001b[43mforward_call\u001b[49m\u001b[43m(\u001b[49m\u001b[43m*\u001b[49m\u001b[43margs\u001b[49m\u001b[43m,\u001b[49m\u001b[43m \u001b[49m\u001b[43m*\u001b[49m\u001b[43m*\u001b[49m\u001b[43mkwargs\u001b[49m\u001b[43m)\u001b[49m\n\u001b[32m   1764\u001b[39m result = \u001b[38;5;28;01mNone\u001b[39;00m\n\u001b[32m   1765\u001b[39m called_always_called_hooks = \u001b[38;5;28mset\u001b[39m()\n",
            "\u001b[36mFile \u001b[39m\u001b[32m~/Developer/generative-fortune-cookie/venv/lib/python3.12/site-packages/torch/nn/modules/container.py:240\u001b[39m, in \u001b[36mSequential.forward\u001b[39m\u001b[34m(self, input)\u001b[39m\n\u001b[32m    238\u001b[39m \u001b[38;5;28;01mdef\u001b[39;00m\u001b[38;5;250m \u001b[39m\u001b[34mforward\u001b[39m(\u001b[38;5;28mself\u001b[39m, \u001b[38;5;28minput\u001b[39m):\n\u001b[32m    239\u001b[39m     \u001b[38;5;28;01mfor\u001b[39;00m module \u001b[38;5;129;01min\u001b[39;00m \u001b[38;5;28mself\u001b[39m:\n\u001b[32m--> \u001b[39m\u001b[32m240\u001b[39m         \u001b[38;5;28minput\u001b[39m = \u001b[43mmodule\u001b[49m\u001b[43m(\u001b[49m\u001b[38;5;28;43minput\u001b[39;49m\u001b[43m)\u001b[49m\n\u001b[32m    241\u001b[39m     \u001b[38;5;28;01mreturn\u001b[39;00m \u001b[38;5;28minput\u001b[39m\n",
            "\u001b[36mFile \u001b[39m\u001b[32m~/Developer/generative-fortune-cookie/venv/lib/python3.12/site-packages/torch/nn/modules/module.py:1751\u001b[39m, in \u001b[36mModule._wrapped_call_impl\u001b[39m\u001b[34m(self, *args, **kwargs)\u001b[39m\n\u001b[32m   1749\u001b[39m     \u001b[38;5;28;01mreturn\u001b[39;00m \u001b[38;5;28mself\u001b[39m._compiled_call_impl(*args, **kwargs)  \u001b[38;5;66;03m# type: ignore[misc]\u001b[39;00m\n\u001b[32m   1750\u001b[39m \u001b[38;5;28;01melse\u001b[39;00m:\n\u001b[32m-> \u001b[39m\u001b[32m1751\u001b[39m     \u001b[38;5;28;01mreturn\u001b[39;00m \u001b[38;5;28;43mself\u001b[39;49m\u001b[43m.\u001b[49m\u001b[43m_call_impl\u001b[49m\u001b[43m(\u001b[49m\u001b[43m*\u001b[49m\u001b[43margs\u001b[49m\u001b[43m,\u001b[49m\u001b[43m \u001b[49m\u001b[43m*\u001b[49m\u001b[43m*\u001b[49m\u001b[43mkwargs\u001b[49m\u001b[43m)\u001b[49m\n",
            "\u001b[36mFile \u001b[39m\u001b[32m~/Developer/generative-fortune-cookie/venv/lib/python3.12/site-packages/torch/nn/modules/module.py:1762\u001b[39m, in \u001b[36mModule._call_impl\u001b[39m\u001b[34m(self, *args, **kwargs)\u001b[39m\n\u001b[32m   1757\u001b[39m \u001b[38;5;66;03m# If we don't have any hooks, we want to skip the rest of the logic in\u001b[39;00m\n\u001b[32m   1758\u001b[39m \u001b[38;5;66;03m# this function, and just call forward.\u001b[39;00m\n\u001b[32m   1759\u001b[39m \u001b[38;5;28;01mif\u001b[39;00m \u001b[38;5;129;01mnot\u001b[39;00m (\u001b[38;5;28mself\u001b[39m._backward_hooks \u001b[38;5;129;01mor\u001b[39;00m \u001b[38;5;28mself\u001b[39m._backward_pre_hooks \u001b[38;5;129;01mor\u001b[39;00m \u001b[38;5;28mself\u001b[39m._forward_hooks \u001b[38;5;129;01mor\u001b[39;00m \u001b[38;5;28mself\u001b[39m._forward_pre_hooks\n\u001b[32m   1760\u001b[39m         \u001b[38;5;129;01mor\u001b[39;00m _global_backward_pre_hooks \u001b[38;5;129;01mor\u001b[39;00m _global_backward_hooks\n\u001b[32m   1761\u001b[39m         \u001b[38;5;129;01mor\u001b[39;00m _global_forward_hooks \u001b[38;5;129;01mor\u001b[39;00m _global_forward_pre_hooks):\n\u001b[32m-> \u001b[39m\u001b[32m1762\u001b[39m     \u001b[38;5;28;01mreturn\u001b[39;00m \u001b[43mforward_call\u001b[49m\u001b[43m(\u001b[49m\u001b[43m*\u001b[49m\u001b[43margs\u001b[49m\u001b[43m,\u001b[49m\u001b[43m \u001b[49m\u001b[43m*\u001b[49m\u001b[43m*\u001b[49m\u001b[43mkwargs\u001b[49m\u001b[43m)\u001b[49m\n\u001b[32m   1764\u001b[39m result = \u001b[38;5;28;01mNone\u001b[39;00m\n\u001b[32m   1765\u001b[39m called_always_called_hooks = \u001b[38;5;28mset\u001b[39m()\n",
            "\u001b[36mCell\u001b[39m\u001b[36m \u001b[39m\u001b[32mIn[15]\u001b[39m\u001b[32m, line 129\u001b[39m, in \u001b[36mTransformerBlock.forward\u001b[39m\u001b[34m(self, x)\u001b[39m\n\u001b[32m    127\u001b[39m \u001b[38;5;28;01mdef\u001b[39;00m\u001b[38;5;250m \u001b[39m\u001b[34mforward\u001b[39m(\u001b[38;5;28mself\u001b[39m, x):\n\u001b[32m    128\u001b[39m   \u001b[38;5;66;03m# Communication\u001b[39;00m\n\u001b[32m--> \u001b[39m\u001b[32m129\u001b[39m   x = x + \u001b[38;5;28;43mself\u001b[39;49m\u001b[43m.\u001b[49m\u001b[43msa\u001b[49m\u001b[43m(\u001b[49m\u001b[38;5;28;43mself\u001b[39;49m\u001b[43m.\u001b[49m\u001b[43mn1\u001b[49m\u001b[43m(\u001b[49m\u001b[43mx\u001b[49m\u001b[43m)\u001b[49m\u001b[43m)\u001b[49m\n\u001b[32m    131\u001b[39m   \u001b[38;5;66;03m# Computation\u001b[39;00m\n\u001b[32m    132\u001b[39m   x = x + \u001b[38;5;28mself\u001b[39m.ffwd(\u001b[38;5;28mself\u001b[39m.n2(x))\n",
            "\u001b[36mFile \u001b[39m\u001b[32m~/Developer/generative-fortune-cookie/venv/lib/python3.12/site-packages/torch/nn/modules/module.py:1751\u001b[39m, in \u001b[36mModule._wrapped_call_impl\u001b[39m\u001b[34m(self, *args, **kwargs)\u001b[39m\n\u001b[32m   1749\u001b[39m     \u001b[38;5;28;01mreturn\u001b[39;00m \u001b[38;5;28mself\u001b[39m._compiled_call_impl(*args, **kwargs)  \u001b[38;5;66;03m# type: ignore[misc]\u001b[39;00m\n\u001b[32m   1750\u001b[39m \u001b[38;5;28;01melse\u001b[39;00m:\n\u001b[32m-> \u001b[39m\u001b[32m1751\u001b[39m     \u001b[38;5;28;01mreturn\u001b[39;00m \u001b[38;5;28;43mself\u001b[39;49m\u001b[43m.\u001b[49m\u001b[43m_call_impl\u001b[49m\u001b[43m(\u001b[49m\u001b[43m*\u001b[49m\u001b[43margs\u001b[49m\u001b[43m,\u001b[49m\u001b[43m \u001b[49m\u001b[43m*\u001b[49m\u001b[43m*\u001b[49m\u001b[43mkwargs\u001b[49m\u001b[43m)\u001b[49m\n",
            "\u001b[36mFile \u001b[39m\u001b[32m~/Developer/generative-fortune-cookie/venv/lib/python3.12/site-packages/torch/nn/modules/module.py:1762\u001b[39m, in \u001b[36mModule._call_impl\u001b[39m\u001b[34m(self, *args, **kwargs)\u001b[39m\n\u001b[32m   1757\u001b[39m \u001b[38;5;66;03m# If we don't have any hooks, we want to skip the rest of the logic in\u001b[39;00m\n\u001b[32m   1758\u001b[39m \u001b[38;5;66;03m# this function, and just call forward.\u001b[39;00m\n\u001b[32m   1759\u001b[39m \u001b[38;5;28;01mif\u001b[39;00m \u001b[38;5;129;01mnot\u001b[39;00m (\u001b[38;5;28mself\u001b[39m._backward_hooks \u001b[38;5;129;01mor\u001b[39;00m \u001b[38;5;28mself\u001b[39m._backward_pre_hooks \u001b[38;5;129;01mor\u001b[39;00m \u001b[38;5;28mself\u001b[39m._forward_hooks \u001b[38;5;129;01mor\u001b[39;00m \u001b[38;5;28mself\u001b[39m._forward_pre_hooks\n\u001b[32m   1760\u001b[39m         \u001b[38;5;129;01mor\u001b[39;00m _global_backward_pre_hooks \u001b[38;5;129;01mor\u001b[39;00m _global_backward_hooks\n\u001b[32m   1761\u001b[39m         \u001b[38;5;129;01mor\u001b[39;00m _global_forward_hooks \u001b[38;5;129;01mor\u001b[39;00m _global_forward_pre_hooks):\n\u001b[32m-> \u001b[39m\u001b[32m1762\u001b[39m     \u001b[38;5;28;01mreturn\u001b[39;00m \u001b[43mforward_call\u001b[49m\u001b[43m(\u001b[49m\u001b[43m*\u001b[49m\u001b[43margs\u001b[49m\u001b[43m,\u001b[49m\u001b[43m \u001b[49m\u001b[43m*\u001b[49m\u001b[43m*\u001b[49m\u001b[43mkwargs\u001b[49m\u001b[43m)\u001b[49m\n\u001b[32m   1764\u001b[39m result = \u001b[38;5;28;01mNone\u001b[39;00m\n\u001b[32m   1765\u001b[39m called_always_called_hooks = \u001b[38;5;28mset\u001b[39m()\n",
            "\u001b[36mCell\u001b[39m\u001b[36m \u001b[39m\u001b[32mIn[15]\u001b[39m\u001b[32m, line 94\u001b[39m, in \u001b[36mMultiHeadOfAttention.forward\u001b[39m\u001b[34m(self, x)\u001b[39m\n\u001b[32m     93\u001b[39m \u001b[38;5;28;01mdef\u001b[39;00m\u001b[38;5;250m \u001b[39m\u001b[34mforward\u001b[39m(\u001b[38;5;28mself\u001b[39m, x):\n\u001b[32m---> \u001b[39m\u001b[32m94\u001b[39m   res = torch.cat([\u001b[43mh\u001b[49m\u001b[43m(\u001b[49m\u001b[43mx\u001b[49m\u001b[43m)\u001b[49m \u001b[38;5;28;01mfor\u001b[39;00m h \u001b[38;5;129;01min\u001b[39;00m \u001b[38;5;28mself\u001b[39m.heads], dim=-\u001b[32m1\u001b[39m)\n\u001b[32m     95\u001b[39m   \u001b[38;5;28;01mreturn\u001b[39;00m \u001b[38;5;28mself\u001b[39m.proj(res)\n",
            "\u001b[36mFile \u001b[39m\u001b[32m~/Developer/generative-fortune-cookie/venv/lib/python3.12/site-packages/torch/nn/modules/module.py:1751\u001b[39m, in \u001b[36mModule._wrapped_call_impl\u001b[39m\u001b[34m(self, *args, **kwargs)\u001b[39m\n\u001b[32m   1749\u001b[39m     \u001b[38;5;28;01mreturn\u001b[39;00m \u001b[38;5;28mself\u001b[39m._compiled_call_impl(*args, **kwargs)  \u001b[38;5;66;03m# type: ignore[misc]\u001b[39;00m\n\u001b[32m   1750\u001b[39m \u001b[38;5;28;01melse\u001b[39;00m:\n\u001b[32m-> \u001b[39m\u001b[32m1751\u001b[39m     \u001b[38;5;28;01mreturn\u001b[39;00m \u001b[38;5;28;43mself\u001b[39;49m\u001b[43m.\u001b[49m\u001b[43m_call_impl\u001b[49m\u001b[43m(\u001b[49m\u001b[43m*\u001b[49m\u001b[43margs\u001b[49m\u001b[43m,\u001b[49m\u001b[43m \u001b[49m\u001b[43m*\u001b[49m\u001b[43m*\u001b[49m\u001b[43mkwargs\u001b[49m\u001b[43m)\u001b[49m\n",
            "\u001b[36mFile \u001b[39m\u001b[32m~/Developer/generative-fortune-cookie/venv/lib/python3.12/site-packages/torch/nn/modules/module.py:1762\u001b[39m, in \u001b[36mModule._call_impl\u001b[39m\u001b[34m(self, *args, **kwargs)\u001b[39m\n\u001b[32m   1757\u001b[39m \u001b[38;5;66;03m# If we don't have any hooks, we want to skip the rest of the logic in\u001b[39;00m\n\u001b[32m   1758\u001b[39m \u001b[38;5;66;03m# this function, and just call forward.\u001b[39;00m\n\u001b[32m   1759\u001b[39m \u001b[38;5;28;01mif\u001b[39;00m \u001b[38;5;129;01mnot\u001b[39;00m (\u001b[38;5;28mself\u001b[39m._backward_hooks \u001b[38;5;129;01mor\u001b[39;00m \u001b[38;5;28mself\u001b[39m._backward_pre_hooks \u001b[38;5;129;01mor\u001b[39;00m \u001b[38;5;28mself\u001b[39m._forward_hooks \u001b[38;5;129;01mor\u001b[39;00m \u001b[38;5;28mself\u001b[39m._forward_pre_hooks\n\u001b[32m   1760\u001b[39m         \u001b[38;5;129;01mor\u001b[39;00m _global_backward_pre_hooks \u001b[38;5;129;01mor\u001b[39;00m _global_backward_hooks\n\u001b[32m   1761\u001b[39m         \u001b[38;5;129;01mor\u001b[39;00m _global_forward_hooks \u001b[38;5;129;01mor\u001b[39;00m _global_forward_pre_hooks):\n\u001b[32m-> \u001b[39m\u001b[32m1762\u001b[39m     \u001b[38;5;28;01mreturn\u001b[39;00m \u001b[43mforward_call\u001b[49m\u001b[43m(\u001b[49m\u001b[43m*\u001b[49m\u001b[43margs\u001b[49m\u001b[43m,\u001b[49m\u001b[43m \u001b[49m\u001b[43m*\u001b[49m\u001b[43m*\u001b[49m\u001b[43mkwargs\u001b[49m\u001b[43m)\u001b[49m\n\u001b[32m   1764\u001b[39m result = \u001b[38;5;28;01mNone\u001b[39;00m\n\u001b[32m   1765\u001b[39m called_always_called_hooks = \u001b[38;5;28mset\u001b[39m()\n",
            "\u001b[36mCell\u001b[39m\u001b[36m \u001b[39m\u001b[32mIn[15]\u001b[39m\u001b[32m, line 75\u001b[39m, in \u001b[36mSingleHeadOfAttention.forward\u001b[39m\u001b[34m(self, x)\u001b[39m\n\u001b[32m     72\u001b[39m B, T, C = x.shape\n\u001b[32m     74\u001b[39m k = \u001b[38;5;28mself\u001b[39m.key(x) \u001b[38;5;66;03m# B, T, head_size\u001b[39;00m\n\u001b[32m---> \u001b[39m\u001b[32m75\u001b[39m q = \u001b[38;5;28;43mself\u001b[39;49m\u001b[43m.\u001b[49m\u001b[43mquery\u001b[49m\u001b[43m(\u001b[49m\u001b[43mx\u001b[49m\u001b[43m)\u001b[49m \u001b[38;5;66;03m# B, T, head_size\u001b[39;00m\n\u001b[32m     76\u001b[39m v = \u001b[38;5;28mself\u001b[39m.value(x)\n\u001b[32m     78\u001b[39m wei = q @ k.transpose(-\u001b[32m2\u001b[39m, -\u001b[32m1\u001b[39m) * (head_size ** -\u001b[32m0.5\u001b[39m) \u001b[38;5;66;03m# B, T, T\u001b[39;00m\n",
            "\u001b[36mFile \u001b[39m\u001b[32m~/Developer/generative-fortune-cookie/venv/lib/python3.12/site-packages/torch/nn/modules/module.py:1751\u001b[39m, in \u001b[36mModule._wrapped_call_impl\u001b[39m\u001b[34m(self, *args, **kwargs)\u001b[39m\n\u001b[32m   1749\u001b[39m     \u001b[38;5;28;01mreturn\u001b[39;00m \u001b[38;5;28mself\u001b[39m._compiled_call_impl(*args, **kwargs)  \u001b[38;5;66;03m# type: ignore[misc]\u001b[39;00m\n\u001b[32m   1750\u001b[39m \u001b[38;5;28;01melse\u001b[39;00m:\n\u001b[32m-> \u001b[39m\u001b[32m1751\u001b[39m     \u001b[38;5;28;01mreturn\u001b[39;00m \u001b[38;5;28;43mself\u001b[39;49m\u001b[43m.\u001b[49m\u001b[43m_call_impl\u001b[49m\u001b[43m(\u001b[49m\u001b[43m*\u001b[49m\u001b[43margs\u001b[49m\u001b[43m,\u001b[49m\u001b[43m \u001b[49m\u001b[43m*\u001b[49m\u001b[43m*\u001b[49m\u001b[43mkwargs\u001b[49m\u001b[43m)\u001b[49m\n",
            "\u001b[36mFile \u001b[39m\u001b[32m~/Developer/generative-fortune-cookie/venv/lib/python3.12/site-packages/torch/nn/modules/module.py:1762\u001b[39m, in \u001b[36mModule._call_impl\u001b[39m\u001b[34m(self, *args, **kwargs)\u001b[39m\n\u001b[32m   1757\u001b[39m \u001b[38;5;66;03m# If we don't have any hooks, we want to skip the rest of the logic in\u001b[39;00m\n\u001b[32m   1758\u001b[39m \u001b[38;5;66;03m# this function, and just call forward.\u001b[39;00m\n\u001b[32m   1759\u001b[39m \u001b[38;5;28;01mif\u001b[39;00m \u001b[38;5;129;01mnot\u001b[39;00m (\u001b[38;5;28mself\u001b[39m._backward_hooks \u001b[38;5;129;01mor\u001b[39;00m \u001b[38;5;28mself\u001b[39m._backward_pre_hooks \u001b[38;5;129;01mor\u001b[39;00m \u001b[38;5;28mself\u001b[39m._forward_hooks \u001b[38;5;129;01mor\u001b[39;00m \u001b[38;5;28mself\u001b[39m._forward_pre_hooks\n\u001b[32m   1760\u001b[39m         \u001b[38;5;129;01mor\u001b[39;00m _global_backward_pre_hooks \u001b[38;5;129;01mor\u001b[39;00m _global_backward_hooks\n\u001b[32m   1761\u001b[39m         \u001b[38;5;129;01mor\u001b[39;00m _global_forward_hooks \u001b[38;5;129;01mor\u001b[39;00m _global_forward_pre_hooks):\n\u001b[32m-> \u001b[39m\u001b[32m1762\u001b[39m     \u001b[38;5;28;01mreturn\u001b[39;00m \u001b[43mforward_call\u001b[49m\u001b[43m(\u001b[49m\u001b[43m*\u001b[49m\u001b[43margs\u001b[49m\u001b[43m,\u001b[49m\u001b[43m \u001b[49m\u001b[43m*\u001b[49m\u001b[43m*\u001b[49m\u001b[43mkwargs\u001b[49m\u001b[43m)\u001b[49m\n\u001b[32m   1764\u001b[39m result = \u001b[38;5;28;01mNone\u001b[39;00m\n\u001b[32m   1765\u001b[39m called_always_called_hooks = \u001b[38;5;28mset\u001b[39m()\n",
            "\u001b[36mFile \u001b[39m\u001b[32m~/Developer/generative-fortune-cookie/venv/lib/python3.12/site-packages/torch/nn/modules/linear.py:125\u001b[39m, in \u001b[36mLinear.forward\u001b[39m\u001b[34m(self, input)\u001b[39m\n\u001b[32m    124\u001b[39m \u001b[38;5;28;01mdef\u001b[39;00m\u001b[38;5;250m \u001b[39m\u001b[34mforward\u001b[39m(\u001b[38;5;28mself\u001b[39m, \u001b[38;5;28minput\u001b[39m: Tensor) -> Tensor:\n\u001b[32m--> \u001b[39m\u001b[32m125\u001b[39m     \u001b[38;5;28;01mreturn\u001b[39;00m \u001b[43mF\u001b[49m\u001b[43m.\u001b[49m\u001b[43mlinear\u001b[49m\u001b[43m(\u001b[49m\u001b[38;5;28;43minput\u001b[39;49m\u001b[43m,\u001b[49m\u001b[43m \u001b[49m\u001b[38;5;28;43mself\u001b[39;49m\u001b[43m.\u001b[49m\u001b[43mweight\u001b[49m\u001b[43m,\u001b[49m\u001b[43m \u001b[49m\u001b[38;5;28;43mself\u001b[39;49m\u001b[43m.\u001b[49m\u001b[43mbias\u001b[49m\u001b[43m)\u001b[49m\n",
            "\u001b[31mKeyboardInterrupt\u001b[39m: "
          ]
        }
      ],
      "source": [
        "import time\n",
        "\n",
        "optimizer = torch.optim.AdamW(model.parameters(), lr=learning_rate)\n",
        "start = time.time()\n",
        "print(\"device\", device)\n",
        "print(\"batch_size\", batch_size)\n",
        "\n",
        "for steps in range(max_steps + 1):\n",
        "  xb, yb = get_batch(\"train\")\n",
        "\n",
        "  if steps % eval_iters == 0:\n",
        "    losses = estimate_loss()\n",
        "    print(f\"step {steps}: train loss {losses['train']:.4f}, val loss {losses['val']:.4f}\")\n",
        "\n",
        "  logits, cost = model(xb, yb)\n",
        "\n",
        "  optimizer.zero_grad(set_to_none=True)\n",
        "  cost.backward()\n",
        "  optimizer.step()\n",
        "\n",
        "end = time.time()\n",
        "print(\"Training time:\", (end - start) / 60)"
      ]
    },
    {
      "cell_type": "code",
      "execution_count": null,
      "metadata": {
        "id": "D5dA1ZKSZLt6"
      },
      "outputs": [],
      "source": [
        "context = model.generate(torch.zeros(1, 1, dtype=torch.long, device=device), 1000)\n",
        "print(decode(context[0].tolist()))"
      ]
    }
  ],
  "metadata": {
    "accelerator": "GPU",
    "colab": {
      "gpuType": "A100",
      "machine_shape": "hm",
      "provenance": []
    },
    "kernelspec": {
      "display_name": "venv",
      "language": "python",
      "name": "python3"
    },
    "language_info": {
      "codemirror_mode": {
        "name": "ipython",
        "version": 3
      },
      "file_extension": ".py",
      "mimetype": "text/x-python",
      "name": "python",
      "nbconvert_exporter": "python",
      "pygments_lexer": "ipython3",
      "version": "3.12.6"
    }
  },
  "nbformat": 4,
  "nbformat_minor": 0
}
